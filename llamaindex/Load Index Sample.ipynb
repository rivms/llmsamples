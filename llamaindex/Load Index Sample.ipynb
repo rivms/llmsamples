{
 "cells": [
  {
   "cell_type": "code",
   "execution_count": null,
   "id": "3f810023",
   "metadata": {},
   "outputs": [],
   "source": [
    "import logging\n",
    "import sys\n",
    "\n",
    "logging.basicConfig(stream=sys.stdout, level=logging.INFO)\n",
    "logging.getLogger().addHandler(logging.StreamHandler(stream=sys.stdout))"
   ]
  },
  {
   "cell_type": "code",
   "execution_count": null,
   "id": "1e27e425",
   "metadata": {},
   "outputs": [],
   "source": [
    "import sys, os\n",
    "\n",
    "print(f\"Installing packages into environment {sys.executable}\")"
   ]
  },
  {
   "cell_type": "code",
   "execution_count": null,
   "id": "819e016a",
   "metadata": {},
   "outputs": [],
   "source": [
    "!{sys.executable} -m pip install llama-index openai langchain azure-identity"
   ]
  },
  {
   "cell_type": "markdown",
   "id": "b959e85f",
   "metadata": {},
   "source": [
    "# Get Auth Token"
   ]
  },
  {
   "cell_type": "code",
   "execution_count": null,
   "id": "a5b90402",
   "metadata": {},
   "outputs": [],
   "source": [
    "from azure.identity import DefaultAzureCredential"
   ]
  },
  {
   "cell_type": "code",
   "execution_count": null,
   "id": "47e44f26",
   "metadata": {},
   "outputs": [],
   "source": [
    "# Request credential\n",
    "default_credential = DefaultAzureCredential()\n",
    "token = default_credential.get_token(\"https://cognitiveservices.azure.com/.default\")"
   ]
  },
  {
   "cell_type": "markdown",
   "id": "610f314e",
   "metadata": {},
   "source": [
    "# Configure Parameters"
   ]
  },
  {
   "cell_type": "code",
   "execution_count": null,
   "id": "7aa6fd80",
   "metadata": {},
   "outputs": [],
   "source": [
    "aoai_base = \"https://<aoai instance name>.openai.azure.com/\""
   ]
  },
  {
   "cell_type": "markdown",
   "id": "48aeb367",
   "metadata": {},
   "source": [
    "# Setup Contexts"
   ]
  },
  {
   "cell_type": "code",
   "execution_count": null,
   "id": "f08c21f3",
   "metadata": {},
   "outputs": [],
   "source": [
    "from llama_index import StorageContext"
   ]
  },
  {
   "cell_type": "code",
   "execution_count": null,
   "id": "f06b9985",
   "metadata": {},
   "outputs": [],
   "source": [
    "storage_context = StorageContext.from_defaults(persist_dir=\"./doc_store\") # No persist_dir means all stores will be new Simple stores"
   ]
  },
  {
   "cell_type": "code",
   "execution_count": null,
   "id": "a7434a10",
   "metadata": {},
   "outputs": [],
   "source": [
    "len(storage_context.docstore.docs)"
   ]
  },
  {
   "cell_type": "markdown",
   "id": "ae5f9f8a",
   "metadata": {},
   "source": [
    "## Setup custom LLM"
   ]
  },
  {
   "cell_type": "code",
   "execution_count": null,
   "id": "79a142db",
   "metadata": {},
   "outputs": [],
   "source": [
    "azure_kwargs={\"api_type\": \"azure_ad\", \"api_version\": \"2023-03-15-preview\", \"api_base\": aoai_base}"
   ]
  },
  {
   "cell_type": "code",
   "execution_count": null,
   "id": "d16a783c",
   "metadata": {},
   "outputs": [],
   "source": [
    "from langchain.llms import AzureOpenAI\n",
    "llm = AzureOpenAI(temperature=0.9, deployment_name=\"text-davinci-003\", model_name=\"text-davinci-003\", openai_api_key=token.token, model_kwargs=azure_kwargs)"
   ]
  },
  {
   "cell_type": "code",
   "execution_count": null,
   "id": "bc8535ee",
   "metadata": {},
   "outputs": [],
   "source": [
    "from llama_index import LLMPredictor\n",
    "\n",
    "# define LLM\n",
    "llm_predictor = LLMPredictor(llm)"
   ]
  },
  {
   "cell_type": "code",
   "execution_count": null,
   "id": "56ada588",
   "metadata": {},
   "outputs": [],
   "source": [
    "llm_predictor.get_llm_metadata()"
   ]
  },
  {
   "cell_type": "markdown",
   "id": "dda730ac",
   "metadata": {},
   "source": [
    "## Setup custom Embedding"
   ]
  },
  {
   "cell_type": "code",
   "execution_count": null,
   "id": "ed46df26",
   "metadata": {},
   "outputs": [],
   "source": [
    "from langchain.embeddings import OpenAIEmbeddings\n",
    "from llama_index import LangchainEmbedding"
   ]
  },
  {
   "cell_type": "code",
   "execution_count": null,
   "id": "396e174f",
   "metadata": {},
   "outputs": [],
   "source": [
    "os.environ[\"OPENAI_API_KEY\"]=token.token"
   ]
  },
  {
   "cell_type": "code",
   "execution_count": null,
   "id": "dcd0ff0a",
   "metadata": {},
   "outputs": [],
   "source": [
    "# load in AOAI embedding model from langchain\n",
    "oai_embeddings = OpenAIEmbeddings(model=\"text-embedding-ada-002\",\n",
    "                              deployment=\"text-embedding-ada-002\",\n",
    "                              openai_api_key=token.token,\n",
    "                              openai_api_base=azure_kwargs[\"api_base\"],\n",
    "                              openai_api_type=azure_kwargs[\"api_type\"],\n",
    "                              openai_api_version=azure_kwargs[\"api_version\"],\n",
    "                              chunk_size=1)"
   ]
  },
  {
   "cell_type": "code",
   "execution_count": null,
   "id": "dafc72f6",
   "metadata": {},
   "outputs": [],
   "source": [
    "embeddings = LangchainEmbedding(oai_embeddings)"
   ]
  },
  {
   "cell_type": "code",
   "execution_count": null,
   "id": "422d7a60",
   "metadata": {},
   "outputs": [],
   "source": [
    "from llama_index import ServiceContext\n",
    "service_context = ServiceContext.from_defaults(llm_predictor=llm_predictor, embed_model=embeddings) # using default chunk limit"
   ]
  },
  {
   "cell_type": "markdown",
   "id": "cd4204d7",
   "metadata": {},
   "source": [
    "# Create Index"
   ]
  },
  {
   "cell_type": "code",
   "execution_count": null,
   "id": "89ef52ab",
   "metadata": {},
   "outputs": [],
   "source": [
    "from llama_index import load_index_from_storage"
   ]
  },
  {
   "cell_type": "code",
   "execution_count": null,
   "id": "0a103d3d",
   "metadata": {},
   "outputs": [],
   "source": [
    "index = load_index_from_storage(storage_context=storage_context, service_context=service_context)"
   ]
  },
  {
   "cell_type": "code",
   "execution_count": null,
   "id": "a99cc28d",
   "metadata": {},
   "outputs": [],
   "source": [
    "# query will use the same embed_model\n",
    "query_engine = index.as_query_engine(\n",
    "    verbose=True, \n",
    ")\n"
   ]
  },
  {
   "cell_type": "code",
   "execution_count": null,
   "id": "caa6e6b7",
   "metadata": {},
   "outputs": [],
   "source": [
    "%%time\n",
    "response = query_engine.query(\n",
    "    \"How have emissions metrics reported in 2021 and 2022 differed?\")\n",
    "print(response)"
   ]
  }
 ],
 "metadata": {
  "kernelspec": {
   "display_name": "Python [conda env:langchain]",
   "language": "python",
   "name": "conda-env-langchain-py"
  },
  "language_info": {
   "codemirror_mode": {
    "name": "ipython",
    "version": 3
   },
   "file_extension": ".py",
   "mimetype": "text/x-python",
   "name": "python",
   "nbconvert_exporter": "python",
   "pygments_lexer": "ipython3",
   "version": "3.10.10"
  }
 },
 "nbformat": 4,
 "nbformat_minor": 5
}
