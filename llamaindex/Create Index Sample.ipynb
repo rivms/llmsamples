{
 "cells": [
  {
   "cell_type": "code",
   "execution_count": null,
   "id": "123a0bb3",
   "metadata": {},
   "outputs": [],
   "source": [
    "import logging\n",
    "import sys\n",
    "\n",
    "logging.basicConfig(stream=sys.stdout, level=logging.INFO)\n",
    "logging.getLogger().addHandler(logging.StreamHandler(stream=sys.stdout))"
   ]
  },
  {
   "cell_type": "code",
   "execution_count": null,
   "id": "24466243",
   "metadata": {
    "scrolled": true
   },
   "outputs": [],
   "source": [
    "import sys, os\n",
    "\n",
    "print(f\"Installing packages into environment {sys.executable}\")"
   ]
  },
  {
   "cell_type": "code",
   "execution_count": null,
   "id": "dc93f697",
   "metadata": {},
   "outputs": [],
   "source": [
    "!{sys.executable} -m pip install llama-index openai langchain azure-identity"
   ]
  },
  {
   "cell_type": "markdown",
   "id": "3da17e5e",
   "metadata": {},
   "source": [
    "# Get Auth Token"
   ]
  },
  {
   "cell_type": "code",
   "execution_count": null,
   "id": "4b82f5b2",
   "metadata": {},
   "outputs": [],
   "source": [
    "from azure.identity import DefaultAzureCredential"
   ]
  },
  {
   "cell_type": "code",
   "execution_count": null,
   "id": "618d6c36",
   "metadata": {},
   "outputs": [],
   "source": [
    "# Request credential\n",
    "default_credential = DefaultAzureCredential()"
   ]
  },
  {
   "cell_type": "code",
   "execution_count": null,
   "id": "6c722018",
   "metadata": {},
   "outputs": [],
   "source": [
    "token = default_credential.get_token(\"https://cognitiveservices.azure.com/.default\")\n",
    "# token.token"
   ]
  },
  {
   "cell_type": "markdown",
   "id": "3fc11b60",
   "metadata": {},
   "source": [
    "# Configure Parameters"
   ]
  },
  {
   "cell_type": "code",
   "execution_count": null,
   "id": "015b754b",
   "metadata": {},
   "outputs": [],
   "source": [
    "storage_account_url = \"https://<storage account name>.blob.core.windows.net\""
   ]
  },
  {
   "cell_type": "code",
   "execution_count": null,
   "id": "d54efed2",
   "metadata": {},
   "outputs": [],
   "source": [
    "aoai_base = \"https://<aoai instance name>.openai.azure.com/\""
   ]
  },
  {
   "cell_type": "code",
   "execution_count": null,
   "id": "6551d1bb",
   "metadata": {},
   "outputs": [],
   "source": [
    "storage_container_name = \"<blob storage container name>\""
   ]
  },
  {
   "cell_type": "markdown",
   "id": "9075453e",
   "metadata": {},
   "source": [
    "# Load documents from Azure Storage"
   ]
  },
  {
   "cell_type": "code",
   "execution_count": null,
   "id": "1166a52b",
   "metadata": {
    "scrolled": true
   },
   "outputs": [],
   "source": [
    "from llama_index import download_loader"
   ]
  },
  {
   "cell_type": "code",
   "execution_count": null,
   "id": "db5235e6",
   "metadata": {},
   "outputs": [],
   "source": [
    "%%time\n",
    "AzStorageBlobReader = download_loader(\"AzStorageBlobReader\", refresh_cache = True)"
   ]
  },
  {
   "cell_type": "code",
   "execution_count": null,
   "id": "e1183633",
   "metadata": {},
   "outputs": [],
   "source": [
    "%%time\n",
    "loader = AzStorageBlobReader(container_name=storage_container_name, account_url=storage_account_url, credential=default_credential)"
   ]
  },
  {
   "cell_type": "code",
   "execution_count": null,
   "id": "4b6f1fe2",
   "metadata": {
    "scrolled": true
   },
   "outputs": [],
   "source": [
    "%%time\n",
    "documents = loader.load_data()"
   ]
  },
  {
   "cell_type": "code",
   "execution_count": null,
   "id": "0e9acc87",
   "metadata": {},
   "outputs": [],
   "source": [
    "print('Number of documents: {}'.format(len(documents)))"
   ]
  },
  {
   "cell_type": "markdown",
   "id": "779a6e8b",
   "metadata": {},
   "source": [
    "# Setup Contexts"
   ]
  },
  {
   "cell_type": "markdown",
   "id": "6d7a37df",
   "metadata": {},
   "source": [
    "## Setup custom LLM"
   ]
  },
  {
   "cell_type": "code",
   "execution_count": null,
   "id": "e9fdbe28",
   "metadata": {},
   "outputs": [],
   "source": [
    "from langchain.llms import AzureOpenAI"
   ]
  },
  {
   "cell_type": "code",
   "execution_count": null,
   "id": "67a9b15b",
   "metadata": {},
   "outputs": [],
   "source": [
    "azure_kwargs={\"api_type\": \"azure_ad\", \"api_version\": \"2023-03-15-preview\", \"api_base\": aoai_base}"
   ]
  },
  {
   "cell_type": "code",
   "execution_count": null,
   "id": "b409307d",
   "metadata": {},
   "outputs": [],
   "source": [
    "llm = AzureOpenAI(temperature=0.9, deployment_name=\"text-davinci-003\", model_name=\"text-davinci-003\", openai_api_key=token.token, model_kwargs=azure_kwargs)"
   ]
  },
  {
   "cell_type": "code",
   "execution_count": null,
   "id": "2b31ae8d",
   "metadata": {},
   "outputs": [],
   "source": [
    "from llama_index import LLMPredictor\n",
    "\n",
    "# define LLM\n",
    "llm_predictor = LLMPredictor(llm)"
   ]
  },
  {
   "cell_type": "code",
   "execution_count": null,
   "id": "0171c027",
   "metadata": {},
   "outputs": [],
   "source": [
    "llm_predictor.get_llm_metadata()"
   ]
  },
  {
   "cell_type": "markdown",
   "id": "e277213f",
   "metadata": {},
   "source": [
    "### Embedding"
   ]
  },
  {
   "cell_type": "code",
   "execution_count": null,
   "id": "e100e909",
   "metadata": {},
   "outputs": [],
   "source": [
    "from langchain.embeddings import OpenAIEmbeddings\n",
    "from llama_index import LangchainEmbedding"
   ]
  },
  {
   "cell_type": "code",
   "execution_count": null,
   "id": "083a6c26",
   "metadata": {},
   "outputs": [],
   "source": [
    "os.environ[\"OPENAI_API_KEY\"]=token.token"
   ]
  },
  {
   "cell_type": "code",
   "execution_count": null,
   "id": "65870c61",
   "metadata": {},
   "outputs": [],
   "source": [
    "# load in AOAI embedding model from langchain\n",
    "oai_embeddings = OpenAIEmbeddings(model=\"text-embedding-ada-002\",\n",
    "                              deployment=\"text-embedding-ada-002\",\n",
    "                              openai_api_key=token.token,\n",
    "                              openai_api_base=azure_kwargs[\"api_base\"],\n",
    "                              openai_api_type=azure_kwargs[\"api_type\"],\n",
    "                              openai_api_version=azure_kwargs[\"api_version\"],\n",
    "                              chunk_size=1)"
   ]
  },
  {
   "cell_type": "code",
   "execution_count": null,
   "id": "941cbeb8",
   "metadata": {},
   "outputs": [],
   "source": [
    "embeddings = LangchainEmbedding(oai_embeddings)"
   ]
  },
  {
   "cell_type": "code",
   "execution_count": null,
   "id": "897788a9",
   "metadata": {},
   "outputs": [],
   "source": [
    "from llama_index import ServiceContext, StorageContext"
   ]
  },
  {
   "cell_type": "code",
   "execution_count": null,
   "id": "539dd3f9",
   "metadata": {},
   "outputs": [],
   "source": [
    "service_context = ServiceContext.from_defaults(llm_predictor=llm_predictor, embed_model=embeddings) # using default chunk limit"
   ]
  },
  {
   "cell_type": "code",
   "execution_count": null,
   "id": "5f4c9e71",
   "metadata": {},
   "outputs": [],
   "source": [
    "storage_context = StorageContext.from_defaults() # No persist_dir means all stores will be new Simple stores"
   ]
  },
  {
   "cell_type": "markdown",
   "id": "140f8120",
   "metadata": {},
   "source": [
    "## Write document to store"
   ]
  },
  {
   "cell_type": "code",
   "execution_count": null,
   "id": "113099b7",
   "metadata": {},
   "outputs": [],
   "source": [
    "nodes = service_context.node_parser.get_nodes_from_documents(documents)"
   ]
  },
  {
   "cell_type": "code",
   "execution_count": null,
   "id": "0570d545",
   "metadata": {},
   "outputs": [],
   "source": [
    "storage_context.docstore.add_documents(nodes)"
   ]
  },
  {
   "cell_type": "code",
   "execution_count": null,
   "id": "4f22b4a8",
   "metadata": {},
   "outputs": [],
   "source": [
    "storage_context.persist(persist_dir=\"./doc_store\")"
   ]
  },
  {
   "cell_type": "markdown",
   "id": "66b9aac0",
   "metadata": {},
   "source": [
    "# Create Index"
   ]
  },
  {
   "cell_type": "code",
   "execution_count": null,
   "id": "0a9a56d1",
   "metadata": {},
   "outputs": [],
   "source": [
    "from llama_index import GPTVectorStoreIndex"
   ]
  },
  {
   "cell_type": "code",
   "execution_count": null,
   "id": "c20e151d",
   "metadata": {
    "scrolled": false
   },
   "outputs": [],
   "source": [
    "%%time\n",
    "vector_index = GPTVectorStoreIndex(nodes, service_context=service_context, storage_context=storage_context)"
   ]
  },
  {
   "cell_type": "code",
   "execution_count": null,
   "id": "dd8ddcd1",
   "metadata": {},
   "outputs": [],
   "source": [
    "storage_context.persist(persist_dir=\"./doc_store\")"
   ]
  },
  {
   "cell_type": "code",
   "execution_count": null,
   "id": "8fb1cdc4",
   "metadata": {},
   "outputs": [],
   "source": [
    "# query will use the same embed_model\n",
    "query_engine = vector_index.as_query_engine(\n",
    "    verbose=True, \n",
    ")\n",
    "response = query_engine.query(\"Please can you suggest the 5 best questions the reports address?\")\n",
    "print(response)"
   ]
  }
 ],
 "metadata": {
  "kernelspec": {
   "display_name": "Python [conda env:langchain]",
   "language": "python",
   "name": "conda-env-langchain-py"
  },
  "language_info": {
   "codemirror_mode": {
    "name": "ipython",
    "version": 3
   },
   "file_extension": ".py",
   "mimetype": "text/x-python",
   "name": "python",
   "nbconvert_exporter": "python",
   "pygments_lexer": "ipython3",
   "version": "3.10.10"
  }
 },
 "nbformat": 4,
 "nbformat_minor": 5
}
