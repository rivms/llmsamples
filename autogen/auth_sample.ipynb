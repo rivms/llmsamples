{
 "cells": [
  {
   "cell_type": "code",
   "execution_count": 1,
   "metadata": {},
   "outputs": [],
   "source": [
    "import logging\n",
    "import sys\n",
    "\n",
    "logging.basicConfig(stream=sys.stdout, level=logging.WARN)\n",
    "logging.getLogger().addHandler(logging.StreamHandler(stream=sys.stdout))"
   ]
  },
  {
   "cell_type": "code",
   "execution_count": 2,
   "metadata": {},
   "outputs": [
    {
     "name": "stdout",
     "output_type": "stream",
     "text": [
      "Installing packages into environment c:\\anaconda3\\envs\\autogenlab01\\python.exe\n"
     ]
    }
   ],
   "source": [
    "import sys, os\n",
    "\n",
    "print(f\"Installing packages into environment {sys.executable}\")"
   ]
  },
  {
   "cell_type": "code",
   "execution_count": 3,
   "metadata": {},
   "outputs": [
    {
     "name": "stdout",
     "output_type": "stream",
     "text": [
      "Requirement already satisfied: pyautogen in c:\\anaconda3\\envs\\autogenlab01\\lib\\site-packages (0.2.20)\n",
      "Requirement already satisfied: azure-identity in c:\\anaconda3\\envs\\autogenlab01\\lib\\site-packages (1.15.0)\n",
      "Requirement already satisfied: python-dotenv in c:\\anaconda3\\envs\\autogenlab01\\lib\\site-packages (1.0.1)\n",
      "Requirement already satisfied: diskcache in c:\\anaconda3\\envs\\autogenlab01\\lib\\site-packages (from pyautogen) (5.6.3)\n",
      "Requirement already satisfied: docker in c:\\anaconda3\\envs\\autogenlab01\\lib\\site-packages (from pyautogen) (7.0.0)\n",
      "Requirement already satisfied: flaml in c:\\anaconda3\\envs\\autogenlab01\\lib\\site-packages (from pyautogen) (2.1.2)\n",
      "Requirement already satisfied: numpy<2,>=1.17.0 in c:\\anaconda3\\envs\\autogenlab01\\lib\\site-packages (from pyautogen) (1.26.4)\n",
      "Requirement already satisfied: openai>=1.3 in c:\\anaconda3\\envs\\autogenlab01\\lib\\site-packages (from pyautogen) (1.14.3)\n",
      "Requirement already satisfied: pydantic!=2.6.0,<3,>=1.10 in c:\\anaconda3\\envs\\autogenlab01\\lib\\site-packages (from pyautogen) (2.6.4)\n",
      "Requirement already satisfied: termcolor in c:\\anaconda3\\envs\\autogenlab01\\lib\\site-packages (from pyautogen) (2.4.0)\n",
      "Requirement already satisfied: tiktoken in c:\\anaconda3\\envs\\autogenlab01\\lib\\site-packages (from pyautogen) (0.6.0)\n",
      "Requirement already satisfied: azure-core<2.0.0,>=1.23.0 in c:\\anaconda3\\envs\\autogenlab01\\lib\\site-packages (from azure-identity) (1.30.1)\n",
      "Requirement already satisfied: cryptography>=2.5 in c:\\anaconda3\\envs\\autogenlab01\\lib\\site-packages (from azure-identity) (42.0.5)\n",
      "Requirement already satisfied: msal<2.0.0,>=1.24.0 in c:\\anaconda3\\envs\\autogenlab01\\lib\\site-packages (from azure-identity) (1.28.0)\n",
      "Requirement already satisfied: msal-extensions<2.0.0,>=0.3.0 in c:\\anaconda3\\envs\\autogenlab01\\lib\\site-packages (from azure-identity) (1.1.0)\n",
      "Requirement already satisfied: requests>=2.21.0 in c:\\anaconda3\\envs\\autogenlab01\\lib\\site-packages (from azure-core<2.0.0,>=1.23.0->azure-identity) (2.31.0)\n",
      "Requirement already satisfied: six>=1.11.0 in c:\\anaconda3\\envs\\autogenlab01\\lib\\site-packages (from azure-core<2.0.0,>=1.23.0->azure-identity) (1.16.0)\n",
      "Requirement already satisfied: typing-extensions>=4.6.0 in c:\\anaconda3\\envs\\autogenlab01\\lib\\site-packages (from azure-core<2.0.0,>=1.23.0->azure-identity) (4.10.0)\n",
      "Requirement already satisfied: cffi>=1.12 in c:\\anaconda3\\envs\\autogenlab01\\lib\\site-packages (from cryptography>=2.5->azure-identity) (1.16.0)\n",
      "Requirement already satisfied: PyJWT<3,>=1.0.0 in c:\\anaconda3\\envs\\autogenlab01\\lib\\site-packages (from PyJWT[crypto]<3,>=1.0.0->msal<2.0.0,>=1.24.0->azure-identity) (2.8.0)\n",
      "Requirement already satisfied: packaging in c:\\anaconda3\\envs\\autogenlab01\\lib\\site-packages (from msal-extensions<2.0.0,>=0.3.0->azure-identity) (24.0)\n",
      "Requirement already satisfied: portalocker<3,>=1.6 in c:\\anaconda3\\envs\\autogenlab01\\lib\\site-packages (from msal-extensions<2.0.0,>=0.3.0->azure-identity) (2.8.2)\n",
      "Requirement already satisfied: anyio<5,>=3.5.0 in c:\\anaconda3\\envs\\autogenlab01\\lib\\site-packages (from openai>=1.3->pyautogen) (4.3.0)\n",
      "Requirement already satisfied: distro<2,>=1.7.0 in c:\\anaconda3\\envs\\autogenlab01\\lib\\site-packages (from openai>=1.3->pyautogen) (1.9.0)\n",
      "Requirement already satisfied: httpx<1,>=0.23.0 in c:\\anaconda3\\envs\\autogenlab01\\lib\\site-packages (from openai>=1.3->pyautogen) (0.27.0)\n",
      "Requirement already satisfied: sniffio in c:\\anaconda3\\envs\\autogenlab01\\lib\\site-packages (from openai>=1.3->pyautogen) (1.3.1)\n",
      "Requirement already satisfied: tqdm>4 in c:\\anaconda3\\envs\\autogenlab01\\lib\\site-packages (from openai>=1.3->pyautogen) (4.66.2)\n",
      "Requirement already satisfied: annotated-types>=0.4.0 in c:\\anaconda3\\envs\\autogenlab01\\lib\\site-packages (from pydantic!=2.6.0,<3,>=1.10->pyautogen) (0.6.0)\n",
      "Requirement already satisfied: pydantic-core==2.16.3 in c:\\anaconda3\\envs\\autogenlab01\\lib\\site-packages (from pydantic!=2.6.0,<3,>=1.10->pyautogen) (2.16.3)\n",
      "Requirement already satisfied: urllib3>=1.26.0 in c:\\anaconda3\\envs\\autogenlab01\\lib\\site-packages (from docker->pyautogen) (2.2.1)\n",
      "Requirement already satisfied: pywin32>=304 in c:\\anaconda3\\envs\\autogenlab01\\lib\\site-packages (from docker->pyautogen) (306)\n",
      "Requirement already satisfied: regex>=2022.1.18 in c:\\anaconda3\\envs\\autogenlab01\\lib\\site-packages (from tiktoken->pyautogen) (2023.12.25)\n",
      "Requirement already satisfied: idna>=2.8 in c:\\anaconda3\\envs\\autogenlab01\\lib\\site-packages (from anyio<5,>=3.5.0->openai>=1.3->pyautogen) (3.6)\n",
      "Requirement already satisfied: pycparser in c:\\anaconda3\\envs\\autogenlab01\\lib\\site-packages (from cffi>=1.12->cryptography>=2.5->azure-identity) (2.22)\n",
      "Requirement already satisfied: certifi in c:\\anaconda3\\envs\\autogenlab01\\lib\\site-packages (from httpx<1,>=0.23.0->openai>=1.3->pyautogen) (2024.2.2)\n",
      "Requirement already satisfied: httpcore==1.* in c:\\anaconda3\\envs\\autogenlab01\\lib\\site-packages (from httpx<1,>=0.23.0->openai>=1.3->pyautogen) (1.0.4)\n",
      "Requirement already satisfied: h11<0.15,>=0.13 in c:\\anaconda3\\envs\\autogenlab01\\lib\\site-packages (from httpcore==1.*->httpx<1,>=0.23.0->openai>=1.3->pyautogen) (0.14.0)\n",
      "Requirement already satisfied: charset-normalizer<4,>=2 in c:\\anaconda3\\envs\\autogenlab01\\lib\\site-packages (from requests>=2.21.0->azure-core<2.0.0,>=1.23.0->azure-identity) (3.3.2)\n",
      "Requirement already satisfied: colorama in c:\\anaconda3\\envs\\autogenlab01\\lib\\site-packages (from tqdm>4->openai>=1.3->pyautogen) (0.4.6)\n"
     ]
    }
   ],
   "source": [
    "!{sys.executable} -m pip install pyautogen azure-identity python-dotenv"
   ]
  },
  {
   "cell_type": "markdown",
   "metadata": {},
   "source": [
    "# Get Auth Token"
   ]
  },
  {
   "cell_type": "code",
   "execution_count": 4,
   "metadata": {},
   "outputs": [],
   "source": [
    "from azure.identity import DefaultAzureCredential\n",
    "\n",
    "# Request credential\n",
    "credential = DefaultAzureCredential()\n",
    "\n",
    "token = credential.get_token(\"https://cognitiveservices.azure.com/.default\")\n",
    "\n",
    "# print(token.token)\n"
   ]
  },
  {
   "cell_type": "code",
   "execution_count": 6,
   "metadata": {},
   "outputs": [
    {
     "data": {
      "text/plain": [
       "'https://demoaoai101.openai.azure.com/'"
      ]
     },
     "execution_count": 6,
     "metadata": {},
     "output_type": "execute_result"
    }
   ],
   "source": [
    "from dotenv import load_dotenv\n",
    "load_dotenv(dotenv_path=\".env\", override=True)\n",
    "os.environ[\"AZURE_OPENAI_BASE_URL\"]\n"
   ]
  },
  {
   "cell_type": "code",
   "execution_count": 7,
   "metadata": {},
   "outputs": [],
   "source": [
    "from autogen import OpenAIWrapper\n",
    "\n",
    "config_list = [\n",
    "    {\n",
    "        \"model\": \"gpt-4\", # Deployment Name\n",
    "        \"base_url\": os.environ[\"AZURE_OPENAI_BASE_URL\"],\n",
    "        \"api_type\": \"azure\", \n",
    "        \"api_version\": \"2024-02-15-preview\",\n",
    "        \"api_key\": token.token,\n",
    "    }\n",
    "]"
   ]
  },
  {
   "cell_type": "code",
   "execution_count": 8,
   "metadata": {},
   "outputs": [
    {
     "name": "stdout",
     "output_type": "stream",
     "text": [
      "1. Practice Regularly: Consistency is key. Spend time each day coding in Python, even if it's just for 30 minutes. Regular practice helps reinforce concepts and improve your coding skills.\n",
      "\n",
      "2. Work on Projects: Apply what you've learned by building projects. Start with simple ones like a calculator or to-do list app, then gradually tackle more complex applications. This hands-on experience will deepen your understanding and make learning more enjoyable.\n",
      "\n",
      "3. Leverage Resources: Utilize the wealth of free resources available, such as Python's official documentation, online tutorials, coding platforms like Codecademy or LeetCode, and communities like Stack Overflow. Don't hesitate to seek help and collaborate with others. Learning from different sources can provide a well-rounded understanding of Python.\n"
     ]
    }
   ],
   "source": [
    "client = OpenAIWrapper(config_list=config_list)\n",
    "messages = [\n",
    "    {\"role\": \"user\", \"content\": \"Can you give me 3 useful tips on learning Python? Keep it simple and short.\"},\n",
    "]\n",
    "response = client.create(messages=messages, cache_seed=None)\n",
    "print(response.choices[0].message.content)"
   ]
  }
 ],
 "metadata": {
  "kernelspec": {
   "display_name": "autogenlab01",
   "language": "python",
   "name": "python3"
  },
  "language_info": {
   "codemirror_mode": {
    "name": "ipython",
    "version": 3
   },
   "file_extension": ".py",
   "mimetype": "text/x-python",
   "name": "python",
   "nbconvert_exporter": "python",
   "pygments_lexer": "ipython3",
   "version": "3.11.8"
  }
 },
 "nbformat": 4,
 "nbformat_minor": 2
}
